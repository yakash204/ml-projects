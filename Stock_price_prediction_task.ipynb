{
  "nbformat": 4,
  "nbformat_minor": 0,
  "metadata": {
    "colab": {
      "name": "Stock_price_prediction_task.ipynb",
      "provenance": [],
      "collapsed_sections": [],
      "authorship_tag": "ABX9TyP9+8QwaeDMfsc64jv/Pm7k",
      "include_colab_link": true
    },
    "kernelspec": {
      "name": "python3",
      "display_name": "Python 3"
    },
    "language_info": {
      "name": "python"
    }
  },
  "cells": [
    {
      "cell_type": "markdown",
      "metadata": {
        "id": "view-in-github",
        "colab_type": "text"
      },
      "source": [
        "<a href=\"https://colab.research.google.com/github/yakash204/ml-projects/blob/main/Stock_price_prediction_task.ipynb\" target=\"_parent\"><img src=\"https://colab.research.google.com/assets/colab-badge.svg\" alt=\"Open In Colab\"/></a>"
      ]
    },
    {
      "cell_type": "code",
      "metadata": {
        "id": "jWmVms_Re1lt"
      },
      "source": [
        "import numpy as np # linear algebra\n",
        "import pandas as pd # data processing, CSV file I/O (e.g. pd.read_csv)\n",
        "from keras.layers.core import Dense, Activation, Dropout\n",
        "from keras.layers.recurrent import LSTM\n",
        "from keras.models import Sequential\n",
        "from sklearn.model_selection import  train_test_split\n",
        "import time #helper libraries\n",
        "from sklearn.preprocessing import MinMaxScaler\n",
        "import matplotlib.pyplot as plt"
      ],
      "execution_count": 5,
      "outputs": []
    },
    {
      "cell_type": "code",
      "metadata": {
        "colab": {
          "base_uri": "https://localhost:8080/"
        },
        "id": "jtnR1ctyfXjf",
        "outputId": "d7b91acd-6649-46c0-bd9f-e0c86ec9231d"
      },
      "source": [
        "!bash"
      ],
      "execution_count": 7,
      "outputs": [
        {
          "output_type": "stream",
          "text": [
            "\n",
            "\u001b[01;34m/content\u001b[00m# \n",
            "\u001b[01;34m/content\u001b[00m# \n",
            "\u001b[01;34m/content\u001b[00m# exit\n"
          ],
          "name": "stdout"
        }
      ]
    },
    {
      "cell_type": "code",
      "metadata": {
        "id": "TcBBrOIwgQfF"
      },
      "source": [
        "company = 'RELI'\n",
        "start = '01/01/2010'\n",
        "end = '01/12/2020'"
      ],
      "execution_count": 8,
      "outputs": []
    },
    {
      "cell_type": "code",
      "metadata": {
        "id": "p2GdvavlgYgi"
      },
      "source": [
        "import investpy\n",
        "df = investpy.get_stock_historical_data(stock=company,\n",
        "                                        country='India',\n",
        "                                        from_date=start,\n",
        "                                        to_date=end)"
      ],
      "execution_count": 10,
      "outputs": []
    },
    {
      "cell_type": "code",
      "metadata": {
        "colab": {
          "base_uri": "https://localhost:8080/",
          "height": 227
        },
        "id": "QPS0MZHXhKjB",
        "outputId": "45e564e1-3fef-4d94-b24f-9609adc68720"
      },
      "source": [
        "df.head()"
      ],
      "execution_count": 14,
      "outputs": [
        {
          "output_type": "execute_result",
          "data": {
            "text/html": [
              "<div>\n",
              "<style scoped>\n",
              "    .dataframe tbody tr th:only-of-type {\n",
              "        vertical-align: middle;\n",
              "    }\n",
              "\n",
              "    .dataframe tbody tr th {\n",
              "        vertical-align: top;\n",
              "    }\n",
              "\n",
              "    .dataframe thead th {\n",
              "        text-align: right;\n",
              "    }\n",
              "</style>\n",
              "<table border=\"1\" class=\"dataframe\">\n",
              "  <thead>\n",
              "    <tr style=\"text-align: right;\">\n",
              "      <th></th>\n",
              "      <th>Open</th>\n",
              "      <th>High</th>\n",
              "      <th>Low</th>\n",
              "      <th>Close</th>\n",
              "      <th>Volume</th>\n",
              "      <th>Currency</th>\n",
              "    </tr>\n",
              "    <tr>\n",
              "      <th>Date</th>\n",
              "      <th></th>\n",
              "      <th></th>\n",
              "      <th></th>\n",
              "      <th></th>\n",
              "      <th></th>\n",
              "      <th></th>\n",
              "    </tr>\n",
              "  </thead>\n",
              "  <tbody>\n",
              "    <tr>\n",
              "      <th>2010-01-04</th>\n",
              "      <td>540.43</td>\n",
              "      <td>540.43</td>\n",
              "      <td>506.13</td>\n",
              "      <td>532.70</td>\n",
              "      <td>35372156</td>\n",
              "      <td>INR</td>\n",
              "    </tr>\n",
              "    <tr>\n",
              "      <th>2010-01-05</th>\n",
              "      <td>569.55</td>\n",
              "      <td>569.55</td>\n",
              "      <td>527.70</td>\n",
              "      <td>530.32</td>\n",
              "      <td>9872785</td>\n",
              "      <td>INR</td>\n",
              "    </tr>\n",
              "    <tr>\n",
              "      <th>2010-01-06</th>\n",
              "      <td>534.88</td>\n",
              "      <td>542.11</td>\n",
              "      <td>530.30</td>\n",
              "      <td>538.89</td>\n",
              "      <td>10933744</td>\n",
              "      <td>INR</td>\n",
              "    </tr>\n",
              "    <tr>\n",
              "      <th>2010-01-07</th>\n",
              "      <td>538.89</td>\n",
              "      <td>552.27</td>\n",
              "      <td>533.94</td>\n",
              "      <td>547.83</td>\n",
              "      <td>12090336</td>\n",
              "      <td>INR</td>\n",
              "    </tr>\n",
              "    <tr>\n",
              "      <th>2010-01-08</th>\n",
              "      <td>548.80</td>\n",
              "      <td>551.67</td>\n",
              "      <td>542.85</td>\n",
              "      <td>546.40</td>\n",
              "      <td>6973332</td>\n",
              "      <td>INR</td>\n",
              "    </tr>\n",
              "  </tbody>\n",
              "</table>\n",
              "</div>"
            ],
            "text/plain": [
              "              Open    High     Low   Close    Volume Currency\n",
              "Date                                                         \n",
              "2010-01-04  540.43  540.43  506.13  532.70  35372156      INR\n",
              "2010-01-05  569.55  569.55  527.70  530.32   9872785      INR\n",
              "2010-01-06  534.88  542.11  530.30  538.89  10933744      INR\n",
              "2010-01-07  538.89  552.27  533.94  547.83  12090336      INR\n",
              "2010-01-08  548.80  551.67  542.85  546.40   6973332      INR"
            ]
          },
          "metadata": {
            "tags": []
          },
          "execution_count": 14
        }
      ]
    },
    {
      "cell_type": "code",
      "metadata": {
        "colab": {
          "base_uri": "https://localhost:8080/",
          "height": 284
        },
        "id": "E3kn5gDZgmDE",
        "outputId": "0a8cd2a8-ef4e-4181-97f6-b5a0edb0d35e"
      },
      "source": [
        "df['Close'].plot(label = \"close\")\n",
        "plt.title('Reliance Closing Stock Analysis')\n",
        "plt.show()\n"
      ],
      "execution_count": 12,
      "outputs": [
        {
          "output_type": "display_data",
          "data": {
            "image/png": "[encoded data removed]",
            "text/plain": [
              "<Figure size 432x288 with 1 Axes>"
            ]
          },
          "metadata": {
            "tags": [],
            "needs_background": "light"
          }
        }
      ]
    },
    {
      "cell_type": "code",
      "metadata": {
        "id": "l9fiRsSQhEmh"
      },
      "source": [
        "df= df.drop(['Open', 'High', 'Currency', 'Volume', 'Low'], axis = 1)"
      ],
      "execution_count": 15,
      "outputs": []
    },
    {
      "cell_type": "code",
      "metadata": {
        "id": "gImCSwf1gyf8"
      },
      "source": [
        "scaler = MinMaxScaler(feature_range=(0, 1))\n",
        "df = scaler.fit_transform(df)"
      ],
      "execution_count": 16,
      "outputs": []
    },
    {
      "cell_type": "code",
      "metadata": {
        "colab": {
          "base_uri": "https://localhost:8080/"
        },
        "id": "3udNH4T_hATM",
        "outputId": "8dae6086-7861-416b-c318-8c6a037a94b8"
      },
      "source": [
        "train_size = int(len(df) * 0.80)\n",
        "test_size = len(df) - train_size\n",
        "train, test = df[0:train_size,:], df[train_size:len(df),:]\n",
        "print(len(train), len(test))"
      ],
      "execution_count": 17,
      "outputs": [
        {
          "output_type": "stream",
          "text": [
            "2166 542\n"
          ],
          "name": "stdout"
        }
      ]
    },
    {
      "cell_type": "code",
      "metadata": {
        "id": "Ud1JKjIihmET"
      },
      "source": [
        "# convert an array of values into a dataset matrix\n",
        "def create_dataset(dataset, look_back=1):\n",
        "\tdataX, dataY = [], []\n",
        "\tfor i in range(len(dataset)-look_back-1):\n",
        "\t\ta = dataset[i:(i+look_back), 0]\n",
        "\t\tdataX.append(a)\n",
        "\t\tdataY.append(dataset[i + look_back, 0])\n",
        "\treturn np.array(dataX), np.array(dataY)"
      ],
      "execution_count": 18,
      "outputs": []
    },
    {
      "cell_type": "code",
      "metadata": {
        "id": "yS6Cfujfhw3z"
      },
      "source": [
        "look_back = 1\n",
        "trainX, trainY = create_dataset(train, look_back)\n",
        "testX, testY = create_dataset(test, look_back)"
      ],
      "execution_count": 19,
      "outputs": []
    },
    {
      "cell_type": "code",
      "metadata": {
        "id": "25UqSH14hzP7"
      },
      "source": [
        "trainX = np.reshape(trainX, (trainX.shape[0], 1, trainX.shape[1]))\n",
        "testX = np.reshape(testX, (testX.shape[0], 1, testX.shape[1]))"
      ],
      "execution_count": 20,
      "outputs": []
    },
    {
      "cell_type": "code",
      "metadata": {
        "colab": {
          "base_uri": "https://localhost:8080/"
        },
        "id": "MmVaz71ih1qS",
        "outputId": "ee410d2c-8542-400d-9c5f-3235ce3e5d67"
      },
      "source": [
        "#Step 2 Build Model\n",
        "model = Sequential()\n",
        "\n",
        "model.add(LSTM(\n",
        "    50,\n",
        "    input_dim=1,\n",
        "    return_sequences=True))\n",
        "model.add(Dropout(0.2))\n",
        "\n",
        "model.add(LSTM(\n",
        "    100,\n",
        "    return_sequences=False))\n",
        "model.add(Dropout(0.2))\n",
        "\n",
        "model.add(Dense(\n",
        "    1))\n",
        "model.add(Activation('linear'))\n",
        "\n",
        "start = time.time()\n",
        "model.compile(loss='mse', optimizer='rmsprop')\n",
        "print ('compilation time : ', time.time() - start)"
      ],
      "execution_count": 27,
      "outputs": [
        {
          "output_type": "stream",
          "text": [
            "compilation time :  0.012816190719604492\n"
          ],
          "name": "stdout"
        }
      ]
    },
    {
      "cell_type": "code",
      "metadata": {
        "colab": {
          "base_uri": "https://localhost:8080/"
        },
        "id": "SZUATSB-h5Da",
        "outputId": "f937f256-2a1c-4e7b-e31d-582bc532de36"
      },
      "source": [
        "model.fit(\n",
        "    trainX,\n",
        "    trainY,\n",
        "    batch_size=128,\n",
        "    epochs=10,\n",
        "    validation_split=0.05)"
      ],
      "execution_count": 30,
      "outputs": [
        {
          "output_type": "stream",
          "text": [
            "Epoch 1/10\n",
            "17/17 [==============================] - 5s 64ms/step - loss: 0.0079 - val_loss: 0.0592\n",
            "Epoch 2/10\n",
            "17/17 [==============================] - 0s 9ms/step - loss: 0.0035 - val_loss: 0.0428\n",
            "Epoch 3/10\n",
            "17/17 [==============================] - 0s 10ms/step - loss: 0.0026 - val_loss: 0.0356\n",
            "Epoch 4/10\n",
            "17/17 [==============================] - 0s 10ms/step - loss: 0.0016 - val_loss: 0.0173\n",
            "Epoch 5/10\n",
            "17/17 [==============================] - 0s 10ms/step - loss: 8.5647e-04 - val_loss: 0.0034\n",
            "Epoch 6/10\n",
            "17/17 [==============================] - 0s 9ms/step - loss: 2.4091e-04 - val_loss: 1.4228e-04\n",
            "Epoch 7/10\n",
            "17/17 [==============================] - 0s 9ms/step - loss: 1.6720e-04 - val_loss: 1.1720e-04\n",
            "Epoch 8/10\n",
            "17/17 [==============================] - 0s 10ms/step - loss: 1.4866e-04 - val_loss: 2.6463e-04\n",
            "Epoch 9/10\n",
            "17/17 [==============================] - 0s 11ms/step - loss: 1.8720e-04 - val_loss: 9.8331e-05\n",
            "Epoch 10/10\n",
            "17/17 [==============================] - 0s 11ms/step - loss: 1.7234e-04 - val_loss: 0.0011\n"
          ],
          "name": "stdout"
        },
        {
          "output_type": "execute_result",
          "data": {
            "text/plain": [
              "<tensorflow.python.keras.callbacks.History at 0x7fe732e11810>"
            ]
          },
          "metadata": {
            "tags": []
          },
          "execution_count": 30
        }
      ]
    },
    {
      "cell_type": "code",
      "metadata": {
        "colab": {
          "base_uri": "https://localhost:8080/",
          "height": 264
        },
        "id": "Z62A1LfVjBxp",
        "outputId": "6f7d066a-d745-42b9-84a8-a460e29ed235"
      },
      "source": [
        "def plot_results_multiple(predicted_data, true_data,length):\n",
        "    plt.plot(scaler.inverse_transform(true_data.reshape(-1, 1))[length:])\n",
        "    plt.plot(scaler.inverse_transform(np.array(predicted_data).reshape(-1, 1))[length:])\n",
        "    plt.show()\n",
        "    \n",
        "\n",
        "plot_results_multiple(predictions, testY, predict_length)"
      ],
      "execution_count": 33,
      "outputs": [
        {
          "output_type": "display_data",
          "data": {
            "image/png": "[encoded data removed]",
            "text/plain": [
              "<Figure size 432x288 with 1 Axes>"
            ]
          },
          "metadata": {
            "tags": [],
            "needs_background": "light"
          }
        }
      ]
    },
    {
      "cell_type": "code",
      "metadata": {
        "id": "UIpS-ubijZUA"
      },
      "source": [
        ""
      ],
      "execution_count": null,
      "outputs": []
    }
  ]
}